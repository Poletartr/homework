{
 "cells": [
  {
   "cell_type": "code",
   "execution_count": 4,
   "metadata": {},
   "outputs": [
    {
     "name": "stdout",
     "output_type": "stream",
     "text": [
      "499295094.0\n"
     ]
    }
   ],
   "source": [
    "# Задание 1\n",
    "import random \n",
    "startarray=[]\n",
    "\n",
    "\n",
    "s=0\n",
    "a=0\n",
    "\n",
    "for i in range(0,1000000,1):\n",
    "    startarray.append(random.uniform(0, 999)//1)\n",
    "    s+=startarray[i]\n",
    "    \n",
    "print(s)\n",
    "###################################################### "
   ]
  },
  {
   "cell_type": "code",
   "execution_count": 5,
   "metadata": {},
   "outputs": [
    {
     "name": "stdout",
     "output_type": "stream",
     "text": [
      "[100121, 100090, 99431, 100169, 100212, 100280, 100011, 99971, 100406, 99309]\n"
     ]
    }
   ],
   "source": [
    "#Задание 2\n",
    "array2=[0,0,0,0,0,0,0,0,0,0]\n",
    "\n",
    "a=0\n",
    "\n",
    "def calcHist(array):\n",
    "    array_out=[0,0,0,0,0,0,0,0,0,0]\n",
    "    for i in range(0,1000000,1):\n",
    "        a=array[i]\n",
    "        if 0<=a<=99:\n",
    "            array_out[0]+=1\n",
    "        elif 100<=a<=199:\n",
    "            array_out[1]+=1\n",
    "        elif 200<=a<=299:\n",
    "            array_out[2]+=1\n",
    "        elif 300<=a<=399:\n",
    "            array_out[3]+=1\n",
    "        elif 400<=a<=499:\n",
    "            array_out[4]+=1\n",
    "        elif 500<=a<=599:\n",
    "            array_out[5]+=1\n",
    "        elif 600<=a<=699:\n",
    "            array_out[6]+=1\n",
    "        elif 700<=a<=799:\n",
    "            array_out[7]+=1\n",
    "        elif 800<=a<=899:\n",
    "            array_out[8]+=1\n",
    "        elif a>=900:\n",
    "            array_out[9]+=1\n",
    "    return(array_out)\n",
    "\n",
    "array2=calcHist(startarray)\n",
    "\n",
    "print(array2)\n",
    "######################################################"
   ]
  }
 ],
 "metadata": {
  "kernelspec": {
   "display_name": "Python 3.10.8 64-bit",
   "language": "python",
   "name": "python3"
  },
  "language_info": {
   "codemirror_mode": {
    "name": "ipython",
    "version": 3
   },
   "file_extension": ".py",
   "mimetype": "text/x-python",
   "name": "python",
   "nbconvert_exporter": "python",
   "pygments_lexer": "ipython3",
   "version": "3.10.8"
  },
  "orig_nbformat": 4,
  "vscode": {
   "interpreter": {
    "hash": "26de051ba29f2982a8de78e945f0abaf191376122a1563185a90213a26c5da77"
   }
  }
 },
 "nbformat": 4,
 "nbformat_minor": 2
}
