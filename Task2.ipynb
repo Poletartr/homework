{
 "cells": [
  {
   "cell_type": "code",
   "execution_count": 10,
   "metadata": {},
   "outputs": [
    {
     "name": "stdout",
     "output_type": "stream",
     "text": [
      "   *   \n",
      "  ***  \n",
      " ***** \n",
      "*******\n"
     ]
    }
   ],
   "source": [
    "#Задание 1\n",
    "\n",
    "from ctypes.wintypes import HACCEL\n",
    "from re import A\n",
    "import string\n",
    "a=3\n",
    "\n",
    "def triangle(a):\n",
    "    String=\"\"\n",
    "    star=\"*\"\n",
    "    space=\" \"\n",
    "    for i in range(0,a+1,1):\n",
    "        for j in range(0,2*a+1,1):\n",
    "            if j < (a-i) or j>= (a+i+1):\n",
    "                String=String+space\n",
    "            else:\n",
    "                String=String+star\n",
    "        print(String)\n",
    "        String=\"\"\n",
    "         \n",
    "triangle(a)"
   ]
  },
  {
   "cell_type": "code",
   "execution_count": 11,
   "metadata": {},
   "outputs": [
    {
     "name": "stdout",
     "output_type": "stream",
     "text": [
      "1.7320508075688772\n"
     ]
    }
   ],
   "source": [
    "#Задание 2\n",
    "\n",
    "from re import S\n",
    "\n",
    "\n",
    "hist1=[1,1,1]\n",
    "hist2=[0,0,0]\n",
    "n=len(hist1)\n",
    "\n",
    "def histDistanve(hist1,hist2):\n",
    "    s=0\n",
    "    for i in range(0,n,1):\n",
    "        s=(hist1[i]-hist2[i])**2+s\n",
    "    s=s**(1/2)\n",
    "    return(s)\n",
    "\n",
    "print(histDistanve(hist1,hist2))\n"
   ]
  }
 ],
 "metadata": {
  "kernelspec": {
   "display_name": "Python 3.10.8 64-bit",
   "language": "python",
   "name": "python3"
  },
  "language_info": {
   "codemirror_mode": {
    "name": "ipython",
    "version": 3
   },
   "file_extension": ".py",
   "mimetype": "text/x-python",
   "name": "python",
   "nbconvert_exporter": "python",
   "pygments_lexer": "ipython3",
   "version": "3.10.8"
  },
  "orig_nbformat": 4,
  "vscode": {
   "interpreter": {
    "hash": "26de051ba29f2982a8de78e945f0abaf191376122a1563185a90213a26c5da77"
   }
  }
 },
 "nbformat": 4,
 "nbformat_minor": 2
}
