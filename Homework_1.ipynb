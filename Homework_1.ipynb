{
  "metadata": {
    "language_info": {
      "codemirror_mode": {
        "name": "python",
        "version": 3
      },
      "file_extension": ".py",
      "mimetype": "text/x-python",
      "name": "python",
      "nbconvert_exporter": "python",
      "pygments_lexer": "ipython3",
      "version": "3.8"
    },
    "kernelspec": {
      "name": "python",
      "display_name": "Python (Pyodide)",
      "language": "python"
    }
  },
  "nbformat_minor": 4,
  "nbformat": 4,
  "cells": [
    {
      "cell_type": "code",
      "source": "# Задание 1\nimport random \nstartarray=[]\n\n\ns=0\na=0\n\nfor i in range(0,1000000,1):\n    startarray.append(random.uniform(0, 999))\n    s+=startarray[i]\n    \nprint(s)\n######################################################    ",
      "metadata": {
        "trusted": true
      },
      "execution_count": 20,
      "outputs": [
        {
          "name": "stdout",
          "text": "499321497.2127606\n",
          "output_type": "stream"
        }
      ]
    },
    {
      "cell_type": "code",
      "source": "#Задание 2\narray2=[0,0,0,0,0,0,0,0,0,0]\n\na=0\n\ndef zadanie2(array):\n    array_out=[0,0,0,0,0,0,0,0,0,0]\n    for i in range(0,1000000,1):\n        a=array[i]\n        if 0<=a<=99:\n            array_out[0]+=1\n        elif 100<=a<=199:\n            array_out[1]+=1\n        elif 200<=a<=299:\n            array_out[2]+=1\n        elif 300<=a<=399:\n            array_out[3]+=1\n        elif 400<=a<=499:\n            array_out[4]+=1\n        elif 500<=a<=599:\n            array_out[5]+=1\n        elif 600<=a<=699:\n            array_out[6]+=1\n        elif 700<=a<=799:\n            array_out[7]+=1\n        elif 800<=a<=899:\n            array_out[8]+=1\n        elif a>=900:\n            array_out[9]+=1\n    return(array_out)\n\narray2=zadanie2(startarray)\n\nprint(array2)\n######################################################",
      "metadata": {
        "trusted": true
      },
      "execution_count": 21,
      "outputs": [
        {
          "name": "stdout",
          "text": "[99169, 99158, 99039, 99610, 98959, 99004, 98813, 98986, 99231, 99144]\n",
          "output_type": "stream"
        }
      ]
    }
  ]
}